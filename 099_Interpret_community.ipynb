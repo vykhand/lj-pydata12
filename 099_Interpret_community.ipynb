{
 "cells": [
  {
   "cell_type": "code",
   "execution_count": 1,
   "metadata": {},
   "outputs": [
    {
     "name": "stderr",
     "output_type": "stream",
     "text": [
      "Using TensorFlow backend.\n"
     ]
    }
   ],
   "source": [
    "import pandas as pd\n",
    "import numpy as np\n",
    "\n",
    "from sklearn.model_selection import train_test_split, StratifiedKFold\n",
    "from sklearn.preprocessing import StandardScaler,Normalizer,MinMaxScaler, MaxAbsScaler,  LabelEncoder\n",
    "from sklearn.metrics import roc_auc_score, roc_curve\n",
    "from sklearn.tree import DecisionTreeClassifier, export_graphviz, plot_tree, export_text\n",
    "from sklearn.linear_model import LogisticRegression\n",
    "from sklearn.svm import SVC\n",
    "from sklearn.ensemble import RandomForestClassifier\n",
    "import lightgbm as lgb\n",
    "import xgboost as xgb\n",
    "\n",
    "from sklearn.pipeline import FeatureUnion\n",
    "from sklearn.feature_extraction.text import CountVectorizer\n",
    "from sklearn.feature_extraction import DictVectorizer\n",
    "from sklearn.pipeline import make_pipeline\n",
    "\n",
    "\n",
    "from keras.models import Sequential\n",
    "from keras.layers import Dense, Activation, Dropout\n",
    "\n",
    "\n",
    "import matplotlib.pyplot as plt\n",
    "\n",
    "from ipywidgets import interact\n",
    "import ipywidgets as widgets\n",
    "\n",
    "%matplotlib inline"
   ]
  },
  {
   "cell_type": "code",
   "execution_count": 2,
   "metadata": {},
   "outputs": [],
   "source": [
    "def get_poke_xy(dummies = True, label_encode = False, scaler = None, test_size = 0.3, random_state = 777, n_folds = 5):\n",
    "    df = pd.read_csv(\"pokemon.zip\", index_col = \"Name\")\n",
    "\n",
    "    cat_cols = [\"Type 1\", \"Type 2\", \"Generation\"]\n",
    "    num_cols = ['Total', 'HP', 'Attack', 'Defense', 'Sp. Atk', 'Sp. Def', 'Speed']\n",
    "    target_col = \"Legendary\"\n",
    "    drop_cols = [\"#\"]\n",
    "    y_all = df[target_col].astype(\"int\")\n",
    "    \n",
    "    X_all = df.drop(target_col , axis = 1)\n",
    "    X_all.drop(drop_cols,axis=1, inplace = True)\n",
    "    \n",
    "    if label_encode:\n",
    "        for c in cat_cols:\n",
    "            try:\n",
    "                X_all[c] = LabelEncoder().fit_transform(X_all[c].fillna(\"NaN\"))\n",
    "            except TypeError:\n",
    "                print(\"could not encode: \", c)\n",
    "    if dummies:\n",
    "        X_all = X_all.drop(cat_cols, axis=1).join(pd.get_dummies(X_all[cat_cols].astype(\"category\")))\n",
    "    \n",
    "    \n",
    "    if scaler:\n",
    "        sc = scaler()\n",
    "        X_all[num_cols]  = sc.fit_transform(X_all[num_cols])\n",
    "    \n",
    "    kf = StratifiedKFold(n_splits = n_folds )\n",
    "    folds = list(kf.split(X_all, y_all))\n",
    "    \n",
    "    return X_all, y_all, folds "
   ]
  },
  {
   "cell_type": "code",
   "execution_count": 3,
   "metadata": {},
   "outputs": [],
   "source": [
    "def train_model(X, y, folds, model = LogisticRegression, \n",
    "                model_params = {\"penalty\" :\"l1\", \"solver\" :\"liblinear\"}, \n",
    "                fit_params = None):\n",
    "    \n",
    "    colors = [\"r\",\"g\", \"b\", \"y\", \"c\"]\n",
    "    oof_preds = np.zeros(X.shape[0])\n",
    "    scores = []\n",
    "    models = []\n",
    "\n",
    "    plt.subplots(figsize = (10, 10))\n",
    "    #print(tgt, \":\")\n",
    "    plt.subplot(1, 1, 1)\n",
    "    for i, (i_tr, i_te) in enumerate(folds):\n",
    "        \n",
    "        Xtr, Xte = X.iloc[i_tr], X.iloc[i_te]\n",
    "        ytr, yte = y.iloc[i_tr], y.iloc[i_te]\n",
    "        \n",
    "        if model_params:\n",
    "            mdl = model(**model_params)\n",
    "        else: mdl = model()\n",
    "\n",
    "        if fit_params:\n",
    "            mdl.fit(Xtr, ytr, **fit_params)\n",
    "        else:\n",
    "            mdl.fit(Xtr, ytr)\n",
    "    \n",
    "        models.append(mdl)\n",
    "        preds =  mdl.predict_proba(Xte)[:, 1]\n",
    "        oof_preds[i_te] = preds\n",
    "        score = roc_auc_score(yte, preds)\n",
    "        scores.append(score)\n",
    "        fpr, tpr, threshold = roc_curve(yte, preds)\n",
    "        plt.plot(fpr, tpr, color = colors[i] , label = f\"fold:{i}, AUC:{score:.3f}\")\n",
    "        \n",
    "    plt.title(f\"{model.__name__} AUC:{np.mean(scores):.3f}\")\n",
    "    plt.legend(loc=4)\n",
    "    plt.show()\n",
    "    return oof_preds, scores, models"
   ]
  },
  {
   "cell_type": "code",
   "execution_count": 4,
   "metadata": {},
   "outputs": [],
   "source": [
    "X_all_lab, y_all_lab, folds  = get_poke_xy(dummies = False, label_encode=True)"
   ]
  },
  {
   "cell_type": "code",
   "execution_count": 5,
   "metadata": {},
   "outputs": [
    {
     "data": {
      "image/png": "[encoded data removed]",
      "text/plain": [
       "<Figure size 720x720 with 1 Axes>"
      ]
     },
     "metadata": {
      "needs_background": "light"
     },
     "output_type": "display_data"
    }
   ],
   "source": [
    "lgb_preds, lgb_scores, lgb_models = train_model(X_all_lab, y_all_lab, folds, model = lgb.LGBMClassifier, \n",
    "                                         model_params = {\"n_estimators\" : 500,\n",
    "                                                         \"learning_rate\" : 0.01})"
   ]
  },
  {
   "cell_type": "code",
   "execution_count": 6,
   "metadata": {},
   "outputs": [],
   "source": [
    "from interpret.ext.blackbox import TabularExplainer"
   ]
  },
  {
   "cell_type": "code",
   "execution_count": 7,
   "metadata": {},
   "outputs": [],
   "source": [
    "Xtr = X_all_lab.iloc[folds[0][0],:]\n",
    "ytr = y_all_lab.iloc[folds[0][0]]\n",
    "Xte = X_all_lab.iloc[folds[0][1],:]\n",
    "yte = y_all_lab.iloc[folds[0][1]]\n",
    "\n",
    "explainer = TabularExplainer(lgb_models[0], \n",
    "                             Xtr, \n",
    "                             features=Xtr.columns.tolist())"
   ]
  },
  {
   "cell_type": "code",
   "execution_count": 8,
   "metadata": {},
   "outputs": [],
   "source": [
    "global_explanation = explainer.explain_global(Xte)"
   ]
  },
  {
   "cell_type": "code",
   "execution_count": 9,
   "metadata": {},
   "outputs": [],
   "source": [
    "from interpret_community.widget import ExplanationDashboard"
   ]
  },
  {
   "cell_type": "code",
   "execution_count": 10,
   "metadata": {},
   "outputs": [
    {
     "data": {
      "application/vnd.jupyter.widget-view+json": {
       "model_id": "beee9822821c49d1b2ea4024ae097613",
       "version_major": 2,
       "version_minor": 0
      },
      "text/plain": [
       "ExplanationWidget(value={'predictedY': [0, 0, 0, 0, 0, 0, 0, 0, 0, 0, 0, 0, 0, 0, 0, 0, 0, 0, 0, 0, 0, 0, 0, 0…"
      ]
     },
     "metadata": {},
     "output_type": "display_data"
    },
    {
     "data": {
      "text/plain": [
       "<interpret_community.widget.ExplanationDashboard.ExplanationDashboard at 0x7fd2b587a828>"
      ]
     },
     "execution_count": 10,
     "metadata": {},
     "output_type": "execute_result"
    }
   ],
   "source": [
    "ExplanationDashboard(global_explanation, lgb_models[0], datasetX=Xte)"
   ]
  },
  {
   "cell_type": "code",
   "execution_count": null,
   "metadata": {},
   "outputs": [],
   "source": []
  }
 ],
 "metadata": {
  "kernelspec": {
   "display_name": "Python 3",
   "language": "python",
   "name": "python3"
  },
  "language_info": {
   "codemirror_mode": {
    "name": "ipython",
    "version": 3
   },
   "file_extension": ".py",
   "mimetype": "text/x-python",
   "name": "python",
   "nbconvert_exporter": "python",
   "pygments_lexer": "ipython3",
   "version": "3.6.9"
  }
 },
 "nbformat": 4,
 "nbformat_minor": 2
}
